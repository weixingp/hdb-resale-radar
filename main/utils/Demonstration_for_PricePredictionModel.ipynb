{
 "cells": [
  {
   "cell_type": "code",
   "execution_count": 1,
   "metadata": {},
   "outputs": [],
   "source": [
    "import pandas as pd\n",
    "from sklearn.preprocessing import LabelEncoder\n",
    "from sklearn.preprocessing import OrdinalEncoder\n",
    "from sklearn.tree import DecisionTreeClassifier\n",
    "from sklearn.ensemble import RandomForestClassifier\n",
    "\n",
    "\n",
    "class PricePredictionModel:\n",
    "\n",
    "    def __init__(self):\n",
    "        self.HDBPrices = pd.read_csv('main_room.csv')\n",
    "        self.x_data = ['area', 'flat_type_id', 'level_type_id', 'remaining_lease']\n",
    "        self.__modify_x_data()\n",
    "        self.__modify_y_data()\n",
    "        self.decision_tree, self.random_forest = self.__implement_machine_model()\n",
    "\n",
    "    # Declaring a private method to modify independent data for machine learning, not accessible from external classes.\n",
    "    def __modify_x_data(self):\n",
    "        # Remaining lease has to be modified because the number of months trailing behind the number of years\n",
    "        # increases the number of categories available for prediction.\n",
    "        modified_remaining_lease = []\n",
    "        for i in range(len(self.HDBPrices['remaining_lease'])):\n",
    "            remaining_lease = self.HDBPrices['remaining_lease'][i]\n",
    "            if 'month' in remaining_lease:\n",
    "                end = remaining_lease.index('month') - 1\n",
    "                start = end - 2\n",
    "                if int(remaining_lease[start:end]) >= 6:\n",
    "                    years_remaining = int(remaining_lease[0:2]) + 1\n",
    "                else:\n",
    "                    years_remaining = int(remaining_lease[0:2])\n",
    "            else:\n",
    "                years_remaining = int(remaining_lease[0:2])\n",
    "            modified_remaining_lease.append(f'{years_remaining} Years')\n",
    "\n",
    "        new_column = {'remaining_lease': modified_remaining_lease}\n",
    "        modified_remaining_lease = pd.DataFrame(new_column)\n",
    "        modified_remaining_lease.astype('category')\n",
    "        self.HDBPrices['remaining_lease'] = modified_remaining_lease\n",
    "\n",
    "        # columnsToBeUsed = 'area', 'flat_type_id', 'level_type_id', 'remaining_lease'\n",
    "        self.HDBPrices['area'] = self.HDBPrices['area'].astype('category')\n",
    "        self.HDBPrices['flat_type_id'] = self.HDBPrices['flat_type_id'].astype('category')\n",
    "        self.HDBPrices['level_type_id'] = self.HDBPrices['level_type_id'].astype('category')\n",
    "        self.HDBPrices['remaining_lease'] = self.HDBPrices['remaining_lease'].astype('category')\n",
    "\n",
    "    # Declaring a private method to modify dependent data for machine learning, not accessible from external classes.\n",
    "    def __modify_y_data(self):\n",
    "        my_dict = {}\n",
    "        modified_resale_price = []\n",
    "        for i in self.HDBPrices['resale_prices']:\n",
    "            if i <= 200_000:\n",
    "                my_dict['100,000 TO 200,000'] = my_dict.get('100,000 TO 200,000', 0) + 1\n",
    "                modified_resale_price.append('100,000 TO 200,000')\n",
    "            elif i <= 300_000:\n",
    "                my_dict['200,001 TO 300,000'] = my_dict.get('200,001 TO 300,000', 0) + 1\n",
    "                modified_resale_price.append('200,001 TO 300,000')\n",
    "            elif i <= 400_000:\n",
    "                my_dict['300,001 TO 400,000'] = my_dict.get('300,001 TO 400,000', 0) + 1\n",
    "                modified_resale_price.append('300,001 TO 400,000')\n",
    "            elif i <= 500_000:\n",
    "                my_dict['400,001 TO 500,000'] = my_dict.get('400,001 TO 500,000', 0) + 1\n",
    "                modified_resale_price.append('400,001 TO 500,000')\n",
    "            elif i <= 600_000:\n",
    "                my_dict['500,001 TO 600,000'] = my_dict.get('500,001 TO 600,000', 0) + 1\n",
    "                modified_resale_price.append('500,001 TO 600,000')\n",
    "            elif i <= 700_000:\n",
    "                my_dict['600,001 TO 700,000'] = my_dict.get('600,001 TO 700,000', 0) + 1\n",
    "                modified_resale_price.append('600,001 TO 700,000')\n",
    "            elif i <= 800_000:\n",
    "                my_dict['700,001 TO 800,000'] = my_dict.get('700,001 TO 800,000', 0) + 1\n",
    "                modified_resale_price.append('700,001 TO 800,000')\n",
    "            elif i <= 900_000:\n",
    "                my_dict['800,001 TO 900,000'] = my_dict.get('800,001 TO 900,000', 0) + 1\n",
    "                modified_resale_price.append('800,001 TO 900,000')\n",
    "            else:\n",
    "                my_dict['900,000 OR MORE'] = my_dict.get('900,000 OR MORE', 0) + 1\n",
    "                modified_resale_price.append('900,000 OR MORE')\n",
    "\n",
    "        new_column = {'resale_prices': modified_resale_price}\n",
    "        modified_resale_price = pd.DataFrame(new_column)\n",
    "        self.HDBPrices['resale_prices'] = modified_resale_price\n",
    "        self.HDBPrices['resale_prices'] = self.HDBPrices['resale_prices'].astype('category')\n",
    "\n",
    "    # Declaring a private method to reduce duplicated codes\n",
    "    def __get_labels(self):\n",
    "        x = pd.DataFrame(self.HDBPrices[self.x_data])\n",
    "        y = self.HDBPrices['resale_prices']\n",
    "\n",
    "        # Encode all independent categorical data for prediction\n",
    "        oe = OrdinalEncoder()\n",
    "        oe.fit(x)\n",
    "\n",
    "        # Encode all dependents categorical data for prediction\n",
    "        le = LabelEncoder()\n",
    "        le.fit(y)\n",
    "\n",
    "        return oe, le\n",
    "\n",
    "    # Declaring a private method to instantiate the machine learning model\n",
    "    def __implement_machine_model(self):\n",
    "        x = pd.DataFrame(self.HDBPrices[self.x_data])\n",
    "        y = self.HDBPrices['resale_prices']\n",
    "        oe, le = self.__get_labels()\n",
    "\n",
    "        x_encoded = oe.transform(x)\n",
    "        y_encoded = le.transform(y)\n",
    "\n",
    "        decision_tree = DecisionTreeClassifier(max_depth=5, criterion='gini')\n",
    "        decision_tree.fit(x_encoded, y_encoded)\n",
    "\n",
    "        # TODO Decide whether the project will use random forest or decision tree\n",
    "        random_forest = RandomForestClassifier(n_estimators=700, criterion='entropy', random_state=0)\n",
    "        random_forest.fit(x_encoded, y_encoded)\n",
    "\n",
    "        return decision_tree, random_forest\n",
    "\n",
    "    # Declaring a public method to obtain user inputs which is a 2D array containing information of HDB flats which\n",
    "    # they want to have a prediction done for them.\n",
    "    # inputs = [[100, 3, 3, '80 Years']]\n",
    "    def prediction_for_user_input(self, inputs):\n",
    "        x = pd.DataFrame(self.HDBPrices[self.x_data])\n",
    "        y = self.HDBPrices['resale_prices']\n",
    "        oe, le = self.__get_labels()\n",
    "\n",
    "        inputs_encoded = oe.transform(inputs)\n",
    "\n",
    "        decision_tree_result = self.decision_tree.predict(inputs_encoded)\n",
    "        result_decision_tree = list(le.inverse_transform(decision_tree_result)).pop()   # Obtain the Price Category string\n",
    "\n",
    "        # TODO Delete where appropriate\n",
    "        random_forest_result = self.random_forest.predict(inputs_encoded)\n",
    "        result_random_forest = list(le.inverse_transform(random_forest_result)).pop()\n",
    "\n",
    "        return result_decision_tree, result_random_forest\n"
   ]
  },
  {
   "cell_type": "code",
   "execution_count": 2,
   "metadata": {},
   "outputs": [],
   "source": [
    "myPredictors = PricePredictionModel()"
   ]
  },
  {
   "cell_type": "code",
   "execution_count": 3,
   "metadata": {},
   "outputs": [],
   "source": [
    "dectree, ranforest = myPredictors.prediction_for_user_input([[100, 3, 3, '80 Years']])"
   ]
  },
  {
   "cell_type": "code",
   "execution_count": 4,
   "metadata": {},
   "outputs": [
    {
     "data": {
      "text/plain": [
       "'300,001 TO 400,000'"
      ]
     },
     "execution_count": 4,
     "metadata": {},
     "output_type": "execute_result"
    }
   ],
   "source": [
    "dectree"
   ]
  },
  {
   "cell_type": "code",
   "execution_count": 5,
   "metadata": {},
   "outputs": [
    {
     "data": {
      "text/plain": [
       "'300,001 TO 400,000'"
      ]
     },
     "execution_count": 5,
     "metadata": {},
     "output_type": "execute_result"
    }
   ],
   "source": [
    "ranforest"
   ]
  },
  {
   "cell_type": "code",
   "execution_count": null,
   "metadata": {},
   "outputs": [],
   "source": []
  }
 ],
 "metadata": {
  "kernelspec": {
   "display_name": "Python 3",
   "language": "python",
   "name": "python3"
  },
  "language_info": {
   "codemirror_mode": {
    "name": "ipython",
    "version": 3
   },
   "file_extension": ".py",
   "mimetype": "text/x-python",
   "name": "python",
   "nbconvert_exporter": "python",
   "pygments_lexer": "ipython3",
   "version": "3.7.6"
  }
 },
 "nbformat": 4,
 "nbformat_minor": 4
}
